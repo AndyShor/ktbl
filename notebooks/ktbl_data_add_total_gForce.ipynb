{
 "cells": [
  {
   "cell_type": "code",
   "execution_count": 3,
   "id": "1c44075f",
   "metadata": {
    "ExecuteTime": {
     "end_time": "2024-08-01T13:12:30.530469Z",
     "start_time": "2024-08-01T13:12:30.494805Z"
    }
   },
   "outputs": [
    {
     "name": "stdout",
     "output_type": "stream",
     "text": [
      "                0           1           2           3           4\n",
      "count  800.000000  800.000000  800.000000  800.000000  800.000000\n",
      "mean     6.985474   -0.168945    0.519524    0.482861    0.787476\n",
      "std      6.146319    0.293739    0.409365    0.484698    0.632587\n",
      "min      0.000000   -1.582000    0.000000   -0.152000    0.000000\n",
      "25%      0.020370   -0.269000    0.114000    0.000000    0.195470\n",
      "50%      6.194009   -0.102500    0.508000    0.402000    0.779611\n",
      "75%     12.385925    0.000000    0.791500    0.823000    1.150040\n",
      "max     18.584040    1.381000    2.329000    2.599000    3.496204\n"
     ]
    }
   ],
   "source": [
    "import pandas as pd\n",
    "import numpy as np\n",
    "import os.path\n",
    "src_folder='..//data//raw'\n",
    "dest_folder'..//data//raw'\n",
    "file=\"jerk_ble_2.csv\"\n",
    "load_path=os.path.join(src_folder, file)\n",
    "dest_folder=os.path.join('BLE', 'raw_data')\n",
    "output_path=os.path.join(dest_folder, file)\n",
    "\n",
    "load_df=pd.read_csv(load_path, names=['time', 'gfx', 'gfy', 'gfz'])\n",
    "time=load_df['time'].values\n",
    "gfx_np=load_df['gfx'].values\n",
    "gfy_np=load_df['gfy'].values\n",
    "gfz_np=load_df['gfz'].values\n",
    "tgf_np=np.sqrt(gfx_np**2+gfy_np**2+gfz_np**2)\n",
    "save_df=pd.DataFrame(list(zip(time, gfy_np, gfx_np, gfz_np, tgf_np )))\n",
    "#save_df.to_csv(output_path)\n",
    "\n",
    "print(save_df.describe())"
   ]
  },
  {
   "cell_type": "code",
   "execution_count": null,
   "id": "2ff9d511",
   "metadata": {},
   "outputs": [],
   "source": []
  },
  {
   "cell_type": "code",
   "execution_count": null,
   "id": "66119ac4",
   "metadata": {},
   "outputs": [],
   "source": []
  },
  {
   "cell_type": "code",
   "execution_count": null,
   "id": "a13c37e5",
   "metadata": {},
   "outputs": [],
   "source": []
  }
 ],
 "metadata": {
  "kernelspec": {
   "display_name": "Python 3 (ipykernel)",
   "language": "python",
   "name": "python3"
  },
  "language_info": {
   "codemirror_mode": {
    "name": "ipython",
    "version": 3
   },
   "file_extension": ".py",
   "mimetype": "text/x-python",
   "name": "python",
   "nbconvert_exporter": "python",
   "pygments_lexer": "ipython3",
   "version": "3.9.12"
  }
 },
 "nbformat": 4,
 "nbformat_minor": 5
}
