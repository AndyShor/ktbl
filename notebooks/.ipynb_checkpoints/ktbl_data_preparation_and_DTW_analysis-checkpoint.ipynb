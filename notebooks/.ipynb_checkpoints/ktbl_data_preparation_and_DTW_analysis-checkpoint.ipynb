{
 "cells": [
  {
   "cell_type": "code",
   "execution_count": 1,
   "id": "f0bc1476",
   "metadata": {
    "ExecuteTime": {
     "end_time": "2023-05-09T11:33:35.969889Z",
     "start_time": "2023-05-09T11:33:34.053461Z"
    }
   },
   "outputs": [
    {
     "name": "stdout",
     "output_type": "stream",
     "text": [
      "['ktbl_1.csv', 'ktbl_10.csv', 'ktbl_11.csv', 'ktbl_12.csv', 'ktbl_13.csv', 'ktbl_14.csv', 'ktbl_15.csv', 'ktbl_2.csv', 'ktbl_3.csv', 'ktbl_4.csv', 'ktbl_5.csv', 'ktbl_6.csv', 'ktbl_7.csv', 'ktbl_8.csv', 'ktbl_9.csv']\n",
      "['ktbl_1.lbl', 'ktbl_10.lbl', 'ktbl_11.lbl', 'ktbl_12.lbl', 'ktbl_13.lbl', 'ktbl_14.lbl', 'ktbl_15.lbl', 'ktbl_3.lbl', 'ktbl_4.lbl', 'ktbl_5.lbl', 'ktbl_6.lbl', 'ktbl_7.lbl', 'ktbl_8.lbl', 'ktbl_9.lbl']\n"
     ]
    }
   ],
   "source": [
    "import pandas as pd\n",
    "import matplotlib # import for plots\n",
    "import matplotlib.pyplot as plt # import for plots\n",
    "import numpy as np\n",
    "from scipy.signal import savgol_filter\n",
    "import json\n",
    "import os\n",
    "\n",
    "\n",
    "# folder path\n",
    "dir_path = 'ktbl' #folder with raw data\n",
    "span=1.6 # span to be cut around feature center optimal about 1.6 s, too short looses information too long overlaps features\n",
    "p_number=50 # number of points in the data after interpolation from original span*400(Hz)\n",
    "interim_path='ktbl\\\\interim\\\\' # path to store interim data - cut, filtered, resampled\n",
    "\n",
    "# list to store files\n",
    "folder_content = []\n",
    "\n",
    "# Iterate directory\n",
    "for path in os.listdir(dir_path):\n",
    "    # check if current path is a file\n",
    "    if os.path.isfile(os.path.join(dir_path, path)):\n",
    "        folder_content.append(path)\n",
    "        #print(folder_content)\n",
    "\n",
    "# select data files by *.csv extension\n",
    "list_time_series=list(filter(lambda filename: filename[-4:]=='.csv', folder_content))\n",
    "# select label files by *.lbl extension\n",
    "list_feature_labels=list(filter(lambda filename: filename[-4:]=='.lbl', folder_content))\n",
    "\n",
    "print(list_time_series) # print list of discovered files\n",
    "print(list_feature_labels) # print list of discovered files\n"
   ]
  },
  {
   "cell_type": "code",
   "execution_count": 2,
   "id": "6cc18bb5",
   "metadata": {
    "ExecuteTime": {
     "end_time": "2023-05-09T11:33:39.629296Z",
     "start_time": "2023-05-09T11:33:37.623880Z"
    }
   },
   "outputs": [],
   "source": [
    "\n",
    "xvals = np.linspace(0, span, p_number) # time axis values for resampling\n",
    "\n",
    "for time_series_data in list_time_series: # loop through all time series data\n",
    "    labels=time_series_data[:-4]+'.lbl' # replace *.csv by *.lbl\n",
    "    \n",
    "    if labels in list_feature_labels: # check whather file with data labels exists\n",
    "        time_series_df = pd.read_csv(dir_path+'\\\\'+time_series_data) # read time series data into a dataframe\n",
    "        time_series_df['rel_t']=time_series_df['time']-time_series_df['time'].values[0] # convert dataframe to relarive time\n",
    "        #print(time_series_df.columns)\n",
    "        labels_df=pd.read_csv(dir_path+'\\\\'+labels) # read labels into a dataframe\n",
    "        for i in np.arange(len(labels_df)): # for each labeled feature\n",
    "            #print(i)\n",
    "            center=labels_df['time'][i] #read feature center coordinate\n",
    "            # cut data around the feature center within the given span\n",
    "            cut_df=time_series_df[(time_series_df['rel_t']>(center-span/2)) & (time_series_df['rel_t']<(center+span/2))].copy()\n",
    "            # reset cut dataframe relative time to start from zero\n",
    "            cut_df['rel_t']=cut_df['rel_t']-cut_df['rel_t'].values[0]\n",
    "            # apply smoothing filter to feature variables\n",
    "            \n",
    "            filtered_TgF=savgol_filter( cut_df['TgF'].values, 101, 3)\n",
    "            filtered_gFy=savgol_filter( cut_df['gFy'].values, 101, 3)\n",
    "            filtered_gFz=savgol_filter( cut_df['gFz'].values, 101, 3)\n",
    "            # interpolate filtered data to lower resolution\n",
    "            interpolated_TgF = np.interp(xvals, cut_df['rel_t'].values,filtered_TgF )\n",
    "            interpolated_gFy = np.interp(xvals, cut_df['rel_t'].values,filtered_gFy )\n",
    "            interpolated_gFz = np.interp(xvals, cut_df['rel_t'].values,filtered_gFz )\n",
    "            \"\"\"\n",
    "            #interpolate unfiltered values\n",
    "            interpolated_unfiltered_TgF = np.interp(xvals, cut_df['rel_t'].values,cut_df['TgF'].values )\n",
    "            interpolated_unfiltered_gFy = np.interp(xvals, cut_df['rel_t'].values,cut_df['gFy'].values )\n",
    "            interpolated_unfiltered_gFz = np.interp(xvals, cut_df['rel_t'].values,cut_df['gFz'].values )\n",
    "            \"\"\"\n",
    "           \n",
    "            #create result dataframe\n",
    "            export_df=pd.DataFrame(list(zip(xvals, interpolated_TgF,interpolated_gFy, interpolated_gFz )),columns =['rel_t', 'TgF', 'gFy', 'gFz'])\n",
    "            \n",
    "            #export_df_unfiltered=pd.DataFrame(list(zip(xvals, interpolated_unfiltered_TgF,interpolated_unfiltered_gFy, interpolated_unfiltered_gFz )),columns =['rel_t', 'TgF', 'gFy', 'gFz'])\n",
    "            #generate export dataframe name using original time series name, feature number, and feature label\n",
    "            export_name=time_series_data[:-4]+'_'+str(i)+'_'+labels_df['label'][i]+'.csv'\n",
    "            \n",
    "            #export_name_unfiltered=time_series_data[:-4]+'_'+str(i)+'_'+'unfiltered'+'_'+labels_df['label'][i]+'.unf'\n",
    "            # export filtered and interpolated single-feature file into interim data folder\n",
    "            export_df.to_csv(interim_path+export_name, index=False)\n",
    "            \n",
    "            #export_df_unfiltered.to_csv(interim_path+export_name_unfiltered, index=False)\n",
    "            \n",
    "            \n",
    "\n",
    "            \n",
    "            "
   ]
  },
  {
   "cell_type": "code",
   "execution_count": 3,
   "id": "ca167285",
   "metadata": {
    "ExecuteTime": {
     "end_time": "2023-05-09T11:33:41.474182Z",
     "start_time": "2023-05-09T11:33:40.135940Z"
    }
   },
   "outputs": [
    {
     "name": "stdout",
     "output_type": "stream",
     "text": [
      "80 251 72 403\n",
      "saved file swing_mean.csv\n",
      "saved file snatch_mean.csv\n",
      "saved file jerk_mean.csv\n"
     ]
    },
    {
     "data": {
      "text/plain": [
       "0"
      ]
     },
     "execution_count": 3,
     "metadata": {},
     "output_type": "execute_result"
    }
   ],
   "source": [
    "\n",
    "\n",
    "# function making a list of all files with certain feature label in the interim data folder\n",
    "def select_files_by_label(selected_label):\n",
    "    interim_folder_content = [] # empty list from previous runs\n",
    "    selected_label_file_list=[] # empty list from previous runs\n",
    "    for path in os.listdir(interim_path): # check files in the interim data folder\n",
    "    # check if current path is a file\n",
    "        if os.path.isfile(os.path.join(interim_path, path)): # check if path is a file\n",
    "            interim_folder_content.append(path) # add files to the file list\n",
    "    # print number of files in the interim data folder\n",
    "    #print(len(interim_folder_content))\n",
    "    for file_item in interim_folder_content: # loop over files in the folder\n",
    "        name_decomp=file_item.split('_') # split file names to look for labels\n",
    "        if name_decomp[-1][:-4]==selected_label: # for mathing names\n",
    "            selected_label_file_list.append(file_item) # add matrhing name to the list\n",
    "    return selected_label_file_list # return list with all matches\n",
    "\n",
    "swing_files=select_files_by_label('swing') # select all of the type\n",
    "jerk_files=select_files_by_label('jerk')\n",
    "snatch_files=select_files_by_label('snatch')\n",
    "\n",
    "#check whether all are covered\n",
    "print(len(swing_files), len(jerk_files), len(snatch_files),len(swing_files)+ len(jerk_files)+ len(snatch_files) )\n",
    "\n",
    "def get_mean(selected_label):\n",
    "    mean_TgF=np.zeros(p_number)\n",
    "    mean_gFy=np.zeros(p_number)\n",
    "    mean_gFz=np.zeros(p_number)\n",
    "    selected_label_list=select_files_by_label(selected_label)\n",
    "    for feature_file in selected_label_list:\n",
    "        current_df=pd.read_csv(interim_path+feature_file)\n",
    "        mean_TgF=mean_TgF+current_df['TgF'].values\n",
    "        mean_gFy=mean_gFy+current_df['gFy'].values\n",
    "        mean_gFz=mean_gFz+current_df['gFz'].values\n",
    "    \n",
    "    mean_TgF=mean_TgF/len(selected_label_list)\n",
    "    mean_gFy=mean_gFy/len(selected_label_list)\n",
    "    mean_gFz=mean_gFz/len(selected_label_list)\n",
    "    \n",
    "    mean_df=pd.DataFrame(list(zip(xvals, mean_TgF,mean_gFy, mean_gFz )), columns =['rel_t', 'TgF', 'gFy', 'gFz'])\n",
    "    export_name=selected_label+'_'+'mean'+'.csv'\n",
    "    mean_df.to_csv(interim_path+export_name, index=False)\n",
    "    print(f'saved file {export_name}')\n",
    "    \n",
    "    return 0\n",
    "\n",
    "get_mean('swing')\n",
    "get_mean('snatch')\n",
    "get_mean('jerk')\n",
    "    \n",
    "\n"
   ]
  },
  {
   "cell_type": "code",
   "execution_count": null,
   "id": "87cb29ea",
   "metadata": {},
   "outputs": [],
   "source": [
    "def DTWDistance2(s1, s2,w=10):\n",
    "    DTW={}\n",
    "    w = max(w, abs(len(s1)-len(s2)))\n",
    "    for i in range(-1,len(s1)):\n",
    "        for j in range(-1,len(s2)):\n",
    "            DTW[(i, j)] = float('inf')\n",
    "    DTW[(-1, -1)] = 0\n",
    "    for i in range(len(s1)):\n",
    "        for j in range(max(0, i-w), min(len(s2), i+w)):\n",
    "            dist = (s1[i]-s2[j])**2\n",
    "            DTW[(i, j)] = dist + min(DTW[(i-1, j)],DTW[(i, j-1)], DTW[(i-1, j-1)])\n",
    "    return np.sqrt(DTW[len(s1)-1, len(s2)-1])\n",
    "\n"
   ]
  },
  {
   "cell_type": "code",
   "execution_count": null,
   "id": "99e754d1",
   "metadata": {},
   "outputs": [],
   "source": []
  }
 ],
 "metadata": {
  "kernelspec": {
   "display_name": "Python 3 (ipykernel)",
   "language": "python",
   "name": "python3"
  },
  "language_info": {
   "codemirror_mode": {
    "name": "ipython",
    "version": 3
   },
   "file_extension": ".py",
   "mimetype": "text/x-python",
   "name": "python",
   "nbconvert_exporter": "python",
   "pygments_lexer": "ipython3",
   "version": "3.9.12"
  }
 },
 "nbformat": 4,
 "nbformat_minor": 5
}
